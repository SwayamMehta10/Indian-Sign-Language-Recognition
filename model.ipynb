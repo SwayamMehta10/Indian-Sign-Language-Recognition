{
 "cells": [
  {
   "cell_type": "code",
   "execution_count": null,
   "metadata": {
    "execution": {
     "iopub.execute_input": "2022-04-25T13:17:58.182801Z",
     "iopub.status.busy": "2022-04-25T13:17:58.182455Z",
     "iopub.status.idle": "2022-04-25T13:17:58.186438Z",
     "shell.execute_reply": "2022-04-25T13:17:58.185349Z",
     "shell.execute_reply.started": "2022-04-25T13:17:58.182771Z"
    }
   },
   "outputs": [],
   "source": [
    "# PACKAGES AND LIBRARIES"
   ]
  },
  {
   "cell_type": "code",
   "execution_count": null,
   "metadata": {
    "_cell_guid": "b1076dfc-b9ad-4769-8c92-a6c4dae69d19",
    "_uuid": "8f2839f25d086af736a60e9eeb907d3b93b6e0e5",
    "execution": {
     "iopub.execute_input": "2022-04-25T16:01:51.985546Z",
     "iopub.status.busy": "2022-04-25T16:01:51.985135Z",
     "iopub.status.idle": "2022-04-25T16:02:01.020336Z",
     "shell.execute_reply": "2022-04-25T16:02:01.019321Z",
     "shell.execute_reply.started": "2022-04-25T16:01:51.985506Z"
    }
   },
   "outputs": [],
   "source": [
    "#GENERAL\n",
    "import pandas as pd\n",
    "import numpy as np\n",
    "import seaborn as sns\n",
    "import matplotlib.pyplot as plt\n",
    "import random\n",
    "#PATH PROCESS\n",
    "import os\n",
    "import os.path\n",
    "from pathlib import Path\n",
    "import glob\n",
    "#IMAGE PROCESS\n",
    "from PIL import Image\n",
    "from keras.preprocessing import image\n",
    "from tensorflow.keras.preprocessing.image import ImageDataGenerator\n",
    "import cv2\n",
    "from keras.applications.vgg16 import preprocess_input, decode_predictions\n",
    "from keras.preprocessing import image\n",
    "import skimage\n",
    "from skimage.feature import hessian_matrix, hessian_matrix_eigvals\n",
    "from scipy.ndimage.filters import convolve\n",
    "from skimage import data, io, filters\n",
    "#SCALER & TRANSFORMATION\n",
    "from sklearn.preprocessing import StandardScaler\n",
    "from sklearn.preprocessing import MinMaxScaler\n",
    "from keras.utils.np_utils import to_categorical\n",
    "from sklearn.model_selection import train_test_split\n",
    "from keras import regularizers\n",
    "from sklearn.preprocessing import LabelEncoder\n",
    "#ACCURACY CONTROL\n",
    "from sklearn.metrics import confusion_matrix, accuracy_score, classification_report, roc_auc_score, roc_curve\n",
    "from sklearn.model_selection import GridSearchCV, cross_val_score\n",
    "from sklearn.metrics import mean_squared_error, r2_score\n",
    "#OPTIMIZER\n",
    "from keras.optimizers import RMSprop,Adam,Optimizer,Optimizer, SGD\n",
    "#MODEL LAYERS\n",
    "from tensorflow.keras.models import Sequential\n",
    "from keras.layers import Dense, Dropout, Flatten, Conv2D, MaxPool2D, BatchNormalization,MaxPooling2D,BatchNormalization,\\\n",
    "                        Permute, TimeDistributed, Bidirectional,GRU, SimpleRNN, LSTM, GlobalAveragePooling2D, SeparableConv2D, ZeroPadding2D, Convolution2D, ZeroPadding2D\n",
    "from keras import models\n",
    "from keras import layers\n",
    "import tensorflow as tf\n",
    "from keras.applications import VGG16,VGG19,inception_v3\n",
    "from keras import backend as K\n",
    "from keras.utils import plot_model\n",
    "from keras.models import load_model\n",
    "from keras.regularizers import l1,l2,L1L2\n",
    "from tensorflow.keras import regularizers\n",
    "#SKLEARN CLASSIFIER\n",
    "from xgboost import XGBClassifier, XGBRegressor\n",
    "from lightgbm import LGBMClassifier, LGBMRegressor\n",
    "from catboost import CatBoostClassifier, CatBoostRegressor\n",
    "from sklearn.linear_model import LogisticRegression\n",
    "from sklearn.naive_bayes import GaussianNB\n",
    "from sklearn.ensemble import RandomForestClassifier, RandomForestRegressor\n",
    "from sklearn.ensemble import GradientBoostingClassifier, GradientBoostingRegressor\n",
    "from sklearn.ensemble import BaggingRegressor\n",
    "from sklearn.tree import DecisionTreeClassifier, DecisionTreeRegressor\n",
    "from sklearn.neural_network import MLPClassifier, MLPRegressor\n",
    "from sklearn.neighbors import KNeighborsClassifier, KNeighborsRegressor\n",
    "from sklearn.linear_model import LinearRegression\n",
    "from sklearn.cross_decomposition import PLSRegression\n",
    "from sklearn.linear_model import Ridge\n",
    "from sklearn.linear_model import RidgeCV\n",
    "from sklearn.linear_model import Lasso\n",
    "from sklearn.linear_model import LassoCV\n",
    "from sklearn.linear_model import ElasticNet\n",
    "from sklearn.linear_model import ElasticNetCV\n",
    "#IGNORING WARNINGS\n",
    "from warnings import filterwarnings\n",
    "filterwarnings(\"ignore\",category=DeprecationWarning)\n",
    "filterwarnings(\"ignore\", category=FutureWarning) \n",
    "filterwarnings(\"ignore\", category=UserWarning)"
   ]
  },
  {
   "cell_type": "markdown",
   "metadata": {},
   "source": [
    "# PATH, LABEL, TRANSFORMATION"
   ]
  },
  {
   "cell_type": "markdown",
   "metadata": {},
   "source": [
    "#### MAIN PATH"
   ]
  },
  {
   "cell_type": "code",
   "execution_count": null,
   "metadata": {
    "execution": {
     "iopub.execute_input": "2022-04-25T13:18:07.022499Z",
     "iopub.status.busy": "2022-04-25T13:18:07.022225Z",
     "iopub.status.idle": "2022-04-25T13:18:07.028139Z",
     "shell.execute_reply": "2022-04-25T13:18:07.027374Z",
     "shell.execute_reply.started": "2022-04-25T13:18:07.022474Z"
    }
   },
   "outputs": [],
   "source": [
    "Indian_Sign_Main_Path = Path(\"../input/indian-sign-language-isl/Indian\")"
   ]
  },
  {
   "cell_type": "markdown",
   "metadata": {},
   "source": [
    "#### JPG PATH"
   ]
  },
  {
   "cell_type": "code",
   "execution_count": null,
   "metadata": {
    "execution": {
     "iopub.execute_input": "2022-04-25T13:18:07.030705Z",
     "iopub.status.busy": "2022-04-25T13:18:07.030239Z",
     "iopub.status.idle": "2022-04-25T13:18:21.855914Z",
     "shell.execute_reply": "2022-04-25T13:18:21.855054Z",
     "shell.execute_reply.started": "2022-04-25T13:18:07.0306Z"
    }
   },
   "outputs": [],
   "source": [
    "Sign_JPG = list(Indian_Sign_Main_Path.glob(r\"*/*.jpg\"))"
   ]
  },
  {
   "cell_type": "markdown",
   "metadata": {},
   "source": [
    "#### LABELS"
   ]
  },
  {
   "cell_type": "code",
   "execution_count": null,
   "metadata": {
    "execution": {
     "iopub.execute_input": "2022-04-25T13:18:21.859036Z",
     "iopub.status.busy": "2022-04-25T13:18:21.858523Z",
     "iopub.status.idle": "2022-04-25T13:18:22.062522Z",
     "shell.execute_reply": "2022-04-25T13:18:22.061643Z",
     "shell.execute_reply.started": "2022-04-25T13:18:21.858998Z"
    }
   },
   "outputs": [],
   "source": [
    "Sign_Labels = list(map(lambda x: os.path.split(os.path.split(x)[0])[1],Sign_JPG))"
   ]
  },
  {
   "cell_type": "markdown",
   "metadata": {},
   "source": [
    "#### TO SERIES"
   ]
  },
  {
   "cell_type": "code",
   "execution_count": null,
   "metadata": {
    "execution": {
     "iopub.execute_input": "2022-04-25T13:18:22.064056Z",
     "iopub.status.busy": "2022-04-25T13:18:22.063739Z",
     "iopub.status.idle": "2022-04-25T13:18:22.099687Z",
     "shell.execute_reply": "2022-04-25T13:18:22.098938Z",
     "shell.execute_reply.started": "2022-04-25T13:18:22.064025Z"
    }
   },
   "outputs": [],
   "source": [
    "Sign_JPG_Series = pd.Series(Sign_JPG,name=\"JPG\").astype(str)\n",
    "Sign_Labels_Series = pd.Series(Sign_Labels,name=\"CATEGORY\")"
   ]
  },
  {
   "cell_type": "markdown",
   "metadata": {},
   "source": [
    "#### TO DATAFRAME"
   ]
  },
  {
   "cell_type": "code",
   "execution_count": null,
   "metadata": {
    "execution": {
     "iopub.execute_input": "2022-04-25T13:18:22.101236Z",
     "iopub.status.busy": "2022-04-25T13:18:22.100911Z",
     "iopub.status.idle": "2022-04-25T13:18:22.108133Z",
     "shell.execute_reply": "2022-04-25T13:18:22.107119Z",
     "shell.execute_reply.started": "2022-04-25T13:18:22.101201Z"
    }
   },
   "outputs": [],
   "source": [
    "Main_Sign_Data = pd.concat([Sign_JPG_Series,Sign_Labels_Series],axis=1)"
   ]
  },
  {
   "cell_type": "code",
   "execution_count": null,
   "metadata": {
    "execution": {
     "iopub.execute_input": "2022-04-25T13:18:22.109932Z",
     "iopub.status.busy": "2022-04-25T13:18:22.109581Z",
     "iopub.status.idle": "2022-04-25T13:18:22.126357Z",
     "shell.execute_reply": "2022-04-25T13:18:22.125313Z",
     "shell.execute_reply.started": "2022-04-25T13:18:22.109896Z"
    }
   },
   "outputs": [],
   "source": [
    "print(Main_Sign_Data.head(-1))"
   ]
  },
  {
   "cell_type": "markdown",
   "metadata": {},
   "source": [
    "#### TO SHUFFLE"
   ]
  },
  {
   "cell_type": "code",
   "execution_count": null,
   "metadata": {
    "execution": {
     "iopub.execute_input": "2022-04-25T13:18:22.130466Z",
     "iopub.status.busy": "2022-04-25T13:18:22.129899Z",
     "iopub.status.idle": "2022-04-25T13:18:22.142597Z",
     "shell.execute_reply": "2022-04-25T13:18:22.141624Z",
     "shell.execute_reply.started": "2022-04-25T13:18:22.130419Z"
    }
   },
   "outputs": [],
   "source": [
    "Main_Sign_Data = Main_Sign_Data.sample(frac=1).reset_index(drop=True)"
   ]
  },
  {
   "cell_type": "code",
   "execution_count": null,
   "metadata": {
    "execution": {
     "iopub.execute_input": "2022-04-25T13:18:22.144877Z",
     "iopub.status.busy": "2022-04-25T13:18:22.144468Z",
     "iopub.status.idle": "2022-04-25T13:18:22.152857Z",
     "shell.execute_reply": "2022-04-25T13:18:22.151878Z",
     "shell.execute_reply.started": "2022-04-25T13:18:22.14484Z"
    }
   },
   "outputs": [],
   "source": [
    "print(Main_Sign_Data.head(-1))"
   ]
  },
  {
   "cell_type": "markdown",
   "metadata": {},
   "source": [
    "# VISION"
   ]
  },
  {
   "cell_type": "markdown",
   "metadata": {},
   "source": [
    "#### VISION FUNCTION"
   ]
  },
  {
   "cell_type": "code",
   "execution_count": null,
   "metadata": {
    "execution": {
     "iopub.execute_input": "2022-04-25T13:18:22.155158Z",
     "iopub.status.busy": "2022-04-25T13:18:22.154416Z",
     "iopub.status.idle": "2022-04-25T13:18:22.161242Z",
     "shell.execute_reply": "2022-04-25T13:18:22.160138Z",
     "shell.execute_reply.started": "2022-04-25T13:18:22.155122Z"
    }
   },
   "outputs": [],
   "source": [
    "def simple_vision(img_path):\n",
    "    Picking_Img = cv2.cvtColor(cv2.imread(img_path),cv2.COLOR_BGR2RGB)\n",
    "    \n",
    "    return Picking_Img"
   ]
  },
  {
   "cell_type": "code",
   "execution_count": null,
   "metadata": {
    "execution": {
     "iopub.execute_input": "2022-04-25T13:18:22.164013Z",
     "iopub.status.busy": "2022-04-25T13:18:22.163572Z",
     "iopub.status.idle": "2022-04-25T13:18:22.170977Z",
     "shell.execute_reply": "2022-04-25T13:18:22.170074Z",
     "shell.execute_reply.started": "2022-04-25T13:18:22.163977Z"
    }
   },
   "outputs": [],
   "source": [
    "def threshold_vision(img_path):\n",
    "    Picking_Img = simple_vision(img_path)\n",
    "    Gray_Img = cv2.cvtColor(Picking_Img,cv2.COLOR_RGB2GRAY)\n",
    "    _,threshold_Img = cv2.threshold(Gray_Img,90,255,cv2.THRESH_BINARY_INV)\n",
    "    \n",
    "    return threshold_Img\n",
    "    "
   ]
  },
  {
   "cell_type": "code",
   "execution_count": null,
   "metadata": {
    "execution": {
     "iopub.execute_input": "2022-04-25T13:18:22.173205Z",
     "iopub.status.busy": "2022-04-25T13:18:22.172483Z",
     "iopub.status.idle": "2022-04-25T13:18:22.182872Z",
     "shell.execute_reply": "2022-04-25T13:18:22.181903Z",
     "shell.execute_reply.started": "2022-04-25T13:18:22.173169Z"
    }
   },
   "outputs": [],
   "source": [
    "def canny_vision(img_path):\n",
    "    Threshold_Img = threshold_vision(img_path)\n",
    "    Canny_Img = cv2.Canny(Threshold_Img,10,100)\n",
    "    \n",
    "    return Canny_Img"
   ]
  },
  {
   "cell_type": "code",
   "execution_count": null,
   "metadata": {
    "execution": {
     "iopub.execute_input": "2022-04-25T13:18:22.185464Z",
     "iopub.status.busy": "2022-04-25T13:18:22.18484Z",
     "iopub.status.idle": "2022-04-25T13:18:22.191926Z",
     "shell.execute_reply": "2022-04-25T13:18:22.19103Z",
     "shell.execute_reply.started": "2022-04-25T13:18:22.185426Z"
    }
   },
   "outputs": [],
   "source": [
    "def skeleton_morph_vision(img_path):\n",
    "    Picking_Img = simple_vision(img_path)\n",
    "    Gray_Img = cv2.cvtColor(Picking_Img,cv2.COLOR_RGB2GRAY)\n",
    "    _,Threshold_Img = cv2.threshold(Gray_Img,90,255,cv2.THRESH_BINARY_INV)\n",
    "    \n",
    "    Array_Img = np.array(Gray_Img > Threshold_Img).astype(int)\n",
    "    Skeleton_Img = skimage.morphology.skeletonize(Array_Img)\n",
    "    \n",
    "    return Skeleton_Img"
   ]
  },
  {
   "cell_type": "markdown",
   "metadata": {},
   "source": [
    "#### CHECKING"
   ]
  },
  {
   "cell_type": "markdown",
   "metadata": {},
   "source": [
    "##### EXAMPLE I"
   ]
  },
  {
   "cell_type": "code",
   "execution_count": null,
   "metadata": {
    "execution": {
     "iopub.execute_input": "2022-04-25T13:18:22.194822Z",
     "iopub.status.busy": "2022-04-25T13:18:22.194156Z",
     "iopub.status.idle": "2022-04-25T13:18:22.432734Z",
     "shell.execute_reply": "2022-04-25T13:18:22.43043Z",
     "shell.execute_reply.started": "2022-04-25T13:18:22.194786Z"
    }
   },
   "outputs": [],
   "source": [
    "figure = plt.figure(figsize=(10,10))\n",
    "\n",
    "Image_Sign = simple_vision(Main_Sign_Data[\"JPG\"][33])\n",
    "\n",
    "plt.xlabel(Image_Sign.shape)\n",
    "plt.ylabel(Image_Sign.size)\n",
    "plt.title(Main_Sign_Data[\"CATEGORY\"][33])\n",
    "plt.imshow(Image_Sign)"
   ]
  },
  {
   "cell_type": "code",
   "execution_count": null,
   "metadata": {
    "execution": {
     "iopub.execute_input": "2022-04-25T13:18:22.434442Z",
     "iopub.status.busy": "2022-04-25T13:18:22.434098Z",
     "iopub.status.idle": "2022-04-25T13:18:22.615153Z",
     "shell.execute_reply": "2022-04-25T13:18:22.61435Z",
     "shell.execute_reply.started": "2022-04-25T13:18:22.434408Z"
    }
   },
   "outputs": [],
   "source": [
    "figure = plt.figure(figsize=(10,10))\n",
    "\n",
    "Image_Sign = threshold_vision(Main_Sign_Data[\"JPG\"][33])\n",
    "\n",
    "plt.xlabel(Image_Sign.shape)\n",
    "plt.ylabel(Image_Sign.size)\n",
    "plt.title(Main_Sign_Data[\"CATEGORY\"][33])\n",
    "plt.imshow(Image_Sign,cmap=\"gray\")"
   ]
  },
  {
   "cell_type": "code",
   "execution_count": null,
   "metadata": {
    "execution": {
     "iopub.execute_input": "2022-04-25T13:18:22.616777Z",
     "iopub.status.busy": "2022-04-25T13:18:22.616437Z",
     "iopub.status.idle": "2022-04-25T13:18:22.815768Z",
     "shell.execute_reply": "2022-04-25T13:18:22.815004Z",
     "shell.execute_reply.started": "2022-04-25T13:18:22.616741Z"
    }
   },
   "outputs": [],
   "source": [
    "figure = plt.figure(figsize=(10,10))\n",
    "\n",
    "Image_Sign = canny_vision(Main_Sign_Data[\"JPG\"][33])\n",
    "\n",
    "plt.xlabel(Image_Sign.shape)\n",
    "plt.ylabel(Image_Sign.size)\n",
    "plt.title(Main_Sign_Data[\"CATEGORY\"][33])\n",
    "plt.imshow(Image_Sign,cmap=\"gray\")"
   ]
  },
  {
   "cell_type": "code",
   "execution_count": null,
   "metadata": {
    "execution": {
     "iopub.execute_input": "2022-04-25T13:18:22.817514Z",
     "iopub.status.busy": "2022-04-25T13:18:22.81709Z",
     "iopub.status.idle": "2022-04-25T13:18:23.168538Z",
     "shell.execute_reply": "2022-04-25T13:18:23.167651Z",
     "shell.execute_reply.started": "2022-04-25T13:18:22.817471Z"
    }
   },
   "outputs": [],
   "source": [
    "figure,axis = plt.subplots(nrows=1,ncols=2,figsize=(20,20))\n",
    "\n",
    "Example_Image = cv2.cvtColor(cv2.imread(Main_Sign_Data[\"JPG\"][33]),cv2.COLOR_BGR2GRAY)\n",
    "\n",
    "Hessian_Mat = hessian_matrix(Example_Image,sigma=5,order=\"rc\")\n",
    "max_S,min_S = hessian_matrix_eigvals(Hessian_Mat)\n",
    "\n",
    "axis[0].imshow(min_S)\n",
    "axis[0].set_xlabel(min_S.shape)\n",
    "axis[0].set_ylabel(min_S.size)\n",
    "axis[0].set_title(Main_Sign_Data[\"CATEGORY\"][33])\n",
    "axis[1].imshow(max_S)\n",
    "axis[1].set_xlabel(max_S.shape)\n",
    "axis[1].set_ylabel(max_S.size)\n",
    "axis[1].set_title(Main_Sign_Data[\"CATEGORY\"][33])"
   ]
  },
  {
   "cell_type": "code",
   "execution_count": null,
   "metadata": {
    "execution": {
     "iopub.execute_input": "2022-04-25T13:18:23.170162Z",
     "iopub.status.busy": "2022-04-25T13:18:23.169708Z",
     "iopub.status.idle": "2022-04-25T13:18:23.490163Z",
     "shell.execute_reply": "2022-04-25T13:18:23.489425Z",
     "shell.execute_reply.started": "2022-04-25T13:18:23.170125Z"
    }
   },
   "outputs": [],
   "source": [
    "figure,axis = plt.subplots(nrows=1,ncols=2,figsize=(20,20))\n",
    "\n",
    "Skel_Img = skeleton_morph_vision(Main_Sign_Data[\"JPG\"][33])\n",
    "Simple_Img = simple_vision(Main_Sign_Data[\"JPG\"][33])\n",
    "\n",
    "axis[0].imshow(Skel_Img)\n",
    "axis[0].set_xlabel(Skel_Img.shape)\n",
    "axis[0].set_ylabel(Skel_Img.size)\n",
    "axis[0].set_title(Main_Sign_Data[\"CATEGORY\"][33])\n",
    "axis[1].imshow(Simple_Img)\n",
    "axis[1].set_xlabel(Simple_Img.shape)\n",
    "axis[1].set_ylabel(Simple_Img.size)\n",
    "axis[1].set_title(Main_Sign_Data[\"CATEGORY\"][33])"
   ]
  },
  {
   "cell_type": "markdown",
   "metadata": {},
   "source": [
    "# SPLITTING DATA"
   ]
  },
  {
   "cell_type": "code",
   "execution_count": null,
   "metadata": {
    "execution": {
     "iopub.execute_input": "2022-04-25T13:18:23.493498Z",
     "iopub.status.busy": "2022-04-25T13:18:23.493082Z",
     "iopub.status.idle": "2022-04-25T13:18:23.504945Z",
     "shell.execute_reply": "2022-04-25T13:18:23.503886Z",
     "shell.execute_reply.started": "2022-04-25T13:18:23.493466Z"
    }
   },
   "outputs": [],
   "source": [
    "X_Train,X_Test = train_test_split(Main_Sign_Data,train_size=0.9,random_state=123,shuffle=True)"
   ]
  },
  {
   "cell_type": "code",
   "execution_count": null,
   "metadata": {
    "execution": {
     "iopub.execute_input": "2022-04-25T13:18:23.508015Z",
     "iopub.status.busy": "2022-04-25T13:18:23.507734Z",
     "iopub.status.idle": "2022-04-25T13:18:23.515426Z",
     "shell.execute_reply": "2022-04-25T13:18:23.514118Z",
     "shell.execute_reply.started": "2022-04-25T13:18:23.507988Z"
    }
   },
   "outputs": [],
   "source": [
    "print(X_Train.shape)\n",
    "print(X_Test.shape)"
   ]
  },
  {
   "cell_type": "code",
   "execution_count": null,
   "metadata": {
    "execution": {
     "iopub.execute_input": "2022-04-25T13:18:23.517344Z",
     "iopub.status.busy": "2022-04-25T13:18:23.516874Z",
     "iopub.status.idle": "2022-04-25T13:18:23.525726Z",
     "shell.execute_reply": "2022-04-25T13:18:23.524774Z",
     "shell.execute_reply.started": "2022-04-25T13:18:23.517303Z"
    }
   },
   "outputs": [],
   "source": [
    "print(type(X_Train))\n",
    "print(type(X_Test))"
   ]
  },
  {
   "cell_type": "markdown",
   "metadata": {
    "execution": {
     "iopub.execute_input": "2021-06-04T20:54:39.808977Z",
     "iopub.status.busy": "2021-06-04T20:54:39.808612Z",
     "iopub.status.idle": "2021-06-04T20:54:39.933978Z",
     "shell.execute_reply": "2021-06-04T20:54:39.932704Z",
     "shell.execute_reply.started": "2021-06-04T20:54:39.808948Z"
    }
   },
   "source": [
    "# IMAGE DATA GENERATOR PROCESS"
   ]
  },
  {
   "cell_type": "markdown",
   "metadata": {},
   "source": [
    "#### GENERATOR STRUCTURE"
   ]
  },
  {
   "cell_type": "code",
   "execution_count": null,
   "metadata": {
    "execution": {
     "iopub.execute_input": "2022-04-25T13:18:23.527529Z",
     "iopub.status.busy": "2022-04-25T13:18:23.527035Z",
     "iopub.status.idle": "2022-04-25T13:18:23.534055Z",
     "shell.execute_reply": "2022-04-25T13:18:23.532989Z",
     "shell.execute_reply.started": "2022-04-25T13:18:23.527462Z"
    }
   },
   "outputs": [],
   "source": [
    "Train_IMG_Generator = ImageDataGenerator(rescale=1./255,\n",
    "                                        zoom_range=0.5,\n",
    "                                        shear_range=0.5,\n",
    "                                        brightness_range=[0.6,1.0],\n",
    "                                        rotation_range=35,\n",
    "                                        width_shift_range=0.1,\n",
    "                                        height_shift_range=0.1,\n",
    "                                        vertical_flip=True,\n",
    "                                         featurewise_std_normalization=False,\n",
    "                                         samplewise_center=False,\n",
    "                                         samplewise_std_normalization=False,\n",
    "                                        fill_mode=\"nearest\",\n",
    "                                        validation_split=0.1)"
   ]
  },
  {
   "cell_type": "code",
   "execution_count": null,
   "metadata": {
    "execution": {
     "iopub.execute_input": "2022-04-25T13:18:23.538744Z",
     "iopub.status.busy": "2022-04-25T13:18:23.538486Z",
     "iopub.status.idle": "2022-04-25T13:18:23.544047Z",
     "shell.execute_reply": "2022-04-25T13:18:23.543017Z",
     "shell.execute_reply.started": "2022-04-25T13:18:23.538721Z"
    }
   },
   "outputs": [],
   "source": [
    "Test_IMG_Generator = ImageDataGenerator(rescale=1./255)"
   ]
  },
  {
   "cell_type": "markdown",
   "metadata": {},
   "source": [
    "#### HOW TO LOOK BY GENERATOR"
   ]
  },
  {
   "cell_type": "code",
   "execution_count": null,
   "metadata": {
    "execution": {
     "iopub.execute_input": "2022-04-25T14:07:19.978742Z",
     "iopub.status.busy": "2022-04-25T14:07:19.978182Z",
     "iopub.status.idle": "2022-04-25T14:07:20.662078Z",
     "shell.execute_reply": "2022-04-25T14:07:20.661197Z",
     "shell.execute_reply.started": "2022-04-25T14:07:19.978702Z"
    }
   },
   "outputs": [],
   "source": [
    "Example_Img = simple_vision(X_Train.JPG[33])\n",
    "Example_Img = Example_Img.reshape((1,) + Example_Img.shape)\n",
    "\n",
    "i = 0 \n",
    "\n",
    "for batch in Train_IMG_Generator.flow(Example_Img,batch_size=32):\n",
    "    \n",
    "    figure = plt.figure(figsize=(8,8))\n",
    "    plt.imshow(image.img_to_array(batch[0]))\n",
    "    \n",
    "    i += 1\n",
    "    if i % 4 == 0:\n",
    "        break\n",
    "        \n",
    "plt.show()"
   ]
  },
  {
   "cell_type": "markdown",
   "metadata": {},
   "source": [
    "#### APPLYING"
   ]
  },
  {
   "cell_type": "code",
   "execution_count": null,
   "metadata": {
    "execution": {
     "iopub.execute_input": "2022-04-25T13:18:24.137905Z",
     "iopub.status.busy": "2022-04-25T13:18:24.137521Z",
     "iopub.status.idle": "2022-04-25T13:18:47.247572Z",
     "shell.execute_reply": "2022-04-25T13:18:47.246663Z",
     "shell.execute_reply.started": "2022-04-25T13:18:24.137864Z"
    }
   },
   "outputs": [],
   "source": [
    "Train_Set = Train_IMG_Generator.flow_from_dataframe(dataframe=X_Train,\n",
    "                                                   x_col=\"JPG\",\n",
    "                                                   y_col=\"CATEGORY\",\n",
    "                                                   batch_size=32,\n",
    "                                                   class_mode=\"categorical\",\n",
    "                                                   color_mode=\"grayscale\",\n",
    "                                                   subset=\"training\")"
   ]
  },
  {
   "cell_type": "code",
   "execution_count": null,
   "metadata": {
    "execution": {
     "iopub.execute_input": "2022-04-25T13:18:47.249409Z",
     "iopub.status.busy": "2022-04-25T13:18:47.248818Z",
     "iopub.status.idle": "2022-04-25T13:19:04.953274Z",
     "shell.execute_reply": "2022-04-25T13:19:04.952365Z",
     "shell.execute_reply.started": "2022-04-25T13:18:47.249364Z"
    }
   },
   "outputs": [],
   "source": [
    "Validation_Set = Train_IMG_Generator.flow_from_dataframe(dataframe=X_Train,\n",
    "                                                   x_col=\"JPG\",\n",
    "                                                   y_col=\"CATEGORY\",\n",
    "                                                   batch_size=32,\n",
    "                                                   class_mode=\"categorical\",\n",
    "                                                   color_mode=\"grayscale\",\n",
    "                                                   subset=\"validation\")"
   ]
  },
  {
   "cell_type": "code",
   "execution_count": null,
   "metadata": {
    "execution": {
     "iopub.execute_input": "2022-04-25T13:19:04.955015Z",
     "iopub.status.busy": "2022-04-25T13:19:04.954671Z",
     "iopub.status.idle": "2022-04-25T13:19:07.678007Z",
     "shell.execute_reply": "2022-04-25T13:19:07.677145Z",
     "shell.execute_reply.started": "2022-04-25T13:19:04.954979Z"
    }
   },
   "outputs": [],
   "source": [
    "Test_Set = Test_IMG_Generator.flow_from_dataframe(dataframe=X_Test,\n",
    "                                                   x_col=\"JPG\",\n",
    "                                                   y_col=\"CATEGORY\",\n",
    "                                                   batch_size=32,\n",
    "                                                   class_mode=\"categorical\",\n",
    "                                                   color_mode=\"grayscale\",\n",
    "                                                   shuffle=False)"
   ]
  },
  {
   "cell_type": "code",
   "execution_count": null,
   "metadata": {
    "execution": {
     "iopub.execute_input": "2022-04-25T13:19:07.679654Z",
     "iopub.status.busy": "2022-04-25T13:19:07.679305Z",
     "iopub.status.idle": "2022-04-25T13:19:07.688159Z",
     "shell.execute_reply": "2022-04-25T13:19:07.687325Z",
     "shell.execute_reply.started": "2022-04-25T13:19:07.679618Z"
    }
   },
   "outputs": [],
   "source": [
    "print(\"TRAIN: \")\n",
    "print(Train_Set.class_indices)\n",
    "print(Train_Set.classes[0:5])\n",
    "print(Train_Set.image_shape)\n",
    "print(\"---\"*20)\n",
    "print(\"VALIDATION: \")\n",
    "print(Validation_Set.class_indices)\n",
    "print(Validation_Set.classes[0:5])\n",
    "print(Validation_Set.image_shape)\n",
    "print(\"---\"*20)\n",
    "print(\"TEST: \")\n",
    "print(Test_Set.class_indices)\n",
    "print(Test_Set.classes[0:5])\n",
    "print(Test_Set.image_shape)"
   ]
  },
  {
   "cell_type": "markdown",
   "metadata": {},
   "source": [
    "# MODEL"
   ]
  },
  {
   "cell_type": "markdown",
   "metadata": {},
   "source": [
    "#### PARAMETERS"
   ]
  },
  {
   "cell_type": "code",
   "execution_count": null,
   "metadata": {
    "execution": {
     "iopub.execute_input": "2022-04-25T13:19:07.695275Z",
     "iopub.status.busy": "2022-04-25T13:19:07.694882Z",
     "iopub.status.idle": "2022-04-25T13:19:07.70547Z",
     "shell.execute_reply": "2022-04-25T13:19:07.704572Z",
     "shell.execute_reply.started": "2022-04-25T13:19:07.69522Z"
    }
   },
   "outputs": [],
   "source": [
    "COMPILE_OPTIMIZER = \"adam\"\n",
    "COMPILE_LOSS = \"categorical_crossentropy\"\n",
    "COMPILE_METRICS = [\"accuracy\"]\n",
    "INPUT_DIM = (256,256,1)\n",
    "OUTPUT_DIM = 35"
   ]
  },
  {
   "cell_type": "code",
   "execution_count": null,
   "metadata": {
    "execution": {
     "iopub.execute_input": "2022-04-25T13:19:07.707583Z",
     "iopub.status.busy": "2022-04-25T13:19:07.70699Z",
     "iopub.status.idle": "2022-04-25T13:19:07.716575Z",
     "shell.execute_reply": "2022-04-25T13:19:07.715221Z",
     "shell.execute_reply.started": "2022-04-25T13:19:07.707499Z"
    }
   },
   "outputs": [],
   "source": [
    "Early_Stopper = tf.keras.callbacks.EarlyStopping(monitor=\"loss\",patience=3,mode=\"min\")\n",
    "Checkpoint_Model = tf.keras.callbacks.ModelCheckpoint(monitor=\"val_accuracy\",\n",
    "                                                      save_best_only=True,\n",
    "                                                      save_weights_only=True,\n",
    "                                                      filepath=\"./modelcheck\")"
   ]
  },
  {
   "cell_type": "code",
   "execution_count": null,
   "metadata": {
    "execution": {
     "iopub.execute_input": "2022-04-25T13:19:07.718555Z",
     "iopub.status.busy": "2022-04-25T13:19:07.717877Z",
     "iopub.status.idle": "2022-04-25T13:19:10.062694Z",
     "shell.execute_reply": "2022-04-25T13:19:10.061835Z",
     "shell.execute_reply.started": "2022-04-25T13:19:07.718516Z"
    }
   },
   "outputs": [],
   "source": [
    "Model = Sequential()\n",
    "\n",
    "Model.add(Conv2D(24,(3,3),activation=\"relu\",input_shape=INPUT_DIM))\n",
    "Model.add(BatchNormalization())\n",
    "Model.add(MaxPooling2D((2,2),strides=2))\n",
    "\n",
    "Model.add(Conv2D(64,(3,3),activation=\"relu\",padding=\"same\"))\n",
    "Model.add(Dropout(0.3))\n",
    "Model.add(MaxPooling2D((2,2),strides=2))\n",
    "\n",
    "Model.add(Conv2D(64,(3,3),activation=\"relu\",padding=\"same\"))\n",
    "Model.add(Dropout(0.3))\n",
    "Model.add(MaxPooling2D((2,2),strides=2))\n",
    "\n",
    "Model.add(Conv2D(128,(3,3),activation=\"relu\",padding=\"same\"))\n",
    "Model.add(Conv2D(128,(3,3),activation=\"relu\",padding=\"same\"))\n",
    "Model.add(Dropout(0.3))\n",
    "Model.add(MaxPooling2D((2,2),strides=2))\n",
    "\n",
    "Model.add(Conv2D(256,(3,3),activation=\"relu\",padding=\"same\"))\n",
    "Model.add(Dropout(0.3))\n",
    "Model.add(MaxPooling2D((2,2),strides=2))\n",
    "\n",
    "Model.add(Flatten())\n",
    "Model.add(Dense(2352,activation=\"relu\"))\n",
    "Model.add(Dropout(0.5))\n",
    "Model.add(Dense(OUTPUT_DIM,activation=\"softmax\"))"
   ]
  },
  {
   "cell_type": "code",
   "execution_count": null,
   "metadata": {
    "execution": {
     "iopub.execute_input": "2022-04-25T13:19:10.06433Z",
     "iopub.status.busy": "2022-04-25T13:19:10.063971Z",
     "iopub.status.idle": "2022-04-25T13:19:10.079873Z",
     "shell.execute_reply": "2022-04-25T13:19:10.078971Z",
     "shell.execute_reply.started": "2022-04-25T13:19:10.064296Z"
    }
   },
   "outputs": [],
   "source": [
    "Model.compile(optimizer=COMPILE_OPTIMIZER,loss=COMPILE_LOSS,metrics=COMPILE_METRICS)"
   ]
  },
  {
   "cell_type": "code",
   "execution_count": null,
   "metadata": {
    "execution": {
     "iopub.execute_input": "2022-04-25T13:19:10.081709Z",
     "iopub.status.busy": "2022-04-25T13:19:10.081244Z",
     "iopub.status.idle": "2022-04-25T13:59:26.003583Z",
     "shell.execute_reply": "2022-04-25T13:59:26.002632Z",
     "shell.execute_reply.started": "2022-04-25T13:19:10.08167Z"
    }
   },
   "outputs": [],
   "source": [
    "CNN_Model = Model.fit(Train_Set,\n",
    "                      validation_data=Validation_Set,\n",
    "                      callbacks=[Early_Stopper,Checkpoint_Model],\n",
    "                      epochs=7)"
   ]
  },
  {
   "cell_type": "code",
   "execution_count": null,
   "metadata": {
    "execution": {
     "iopub.execute_input": "2022-04-25T14:05:46.985286Z",
     "iopub.status.busy": "2022-04-25T14:05:46.98488Z",
     "iopub.status.idle": "2022-04-25T14:05:46.99204Z",
     "shell.execute_reply": "2022-04-25T14:05:46.990041Z",
     "shell.execute_reply.started": "2022-04-25T14:05:46.985232Z"
    }
   },
   "outputs": [],
   "source": [
    "#Model.save(\"Prediction_Model.h5\")\n",
    "<a href=\"./Prediction_Model.h5\"> Download File </a>"
   ]
  },
  {
   "cell_type": "code",
   "execution_count": null,
   "metadata": {
    "execution": {
     "iopub.execute_input": "2022-04-25T13:59:26.733646Z",
     "iopub.status.busy": "2022-04-25T13:59:26.733307Z",
     "iopub.status.idle": "2022-04-25T13:59:26.915112Z",
     "shell.execute_reply": "2022-04-25T13:59:26.914262Z",
     "shell.execute_reply.started": "2022-04-25T13:59:26.733612Z"
    }
   },
   "outputs": [],
   "source": [
    "Grap_Data = pd.DataFrame(CNN_Model.history)\n",
    "Grap_Data.plot()"
   ]
  },
  {
   "cell_type": "code",
   "execution_count": null,
   "metadata": {
    "execution": {
     "iopub.execute_input": "2022-04-25T13:59:26.916824Z",
     "iopub.status.busy": "2022-04-25T13:59:26.916495Z",
     "iopub.status.idle": "2022-04-25T13:59:27.049274Z",
     "shell.execute_reply": "2022-04-25T13:59:27.048461Z",
     "shell.execute_reply.started": "2022-04-25T13:59:26.916789Z"
    }
   },
   "outputs": [],
   "source": [
    "plt.plot(CNN_Model.history[\"accuracy\"])\n",
    "plt.plot(CNN_Model.history[\"val_accuracy\"])\n",
    "plt.ylabel(\"ACCURACY\")\n",
    "plt.legend()\n",
    "plt.show()"
   ]
  },
  {
   "cell_type": "code",
   "execution_count": null,
   "metadata": {
    "execution": {
     "iopub.execute_input": "2022-04-25T13:59:27.051051Z",
     "iopub.status.busy": "2022-04-25T13:59:27.050546Z",
     "iopub.status.idle": "2022-04-25T13:59:27.18524Z",
     "shell.execute_reply": "2022-04-25T13:59:27.184329Z",
     "shell.execute_reply.started": "2022-04-25T13:59:27.051012Z"
    }
   },
   "outputs": [],
   "source": [
    "plt.plot(CNN_Model.history[\"loss\"])\n",
    "plt.plot(CNN_Model.history[\"val_loss\"])\n",
    "plt.ylabel(\"LOSS\")\n",
    "plt.legend()\n",
    "plt.show()"
   ]
  },
  {
   "cell_type": "code",
   "execution_count": null,
   "metadata": {
    "execution": {
     "iopub.execute_input": "2022-04-25T14:07:47.976892Z",
     "iopub.status.busy": "2022-04-25T14:07:47.976519Z",
     "iopub.status.idle": "2022-04-25T14:08:09.491837Z",
     "shell.execute_reply": "2022-04-25T14:08:09.490979Z",
     "shell.execute_reply.started": "2022-04-25T14:07:47.976859Z"
    }
   },
   "outputs": [],
   "source": [
    "Model_Results = Model.evaluate(Test_Set)\n",
    "print(\"LOSS:  \" + \"%.4f\" % Model_Results[0])\n",
    "print(\"ACCURACY:  \" + \"%.2f\" % Model_Results[1])"
   ]
  },
  {
   "cell_type": "code",
   "execution_count": null,
   "metadata": {
    "execution": {
     "iopub.execute_input": "2022-04-25T14:00:04.875965Z",
     "iopub.status.busy": "2022-04-25T14:00:04.87563Z",
     "iopub.status.idle": "2022-04-25T14:00:25.627445Z",
     "shell.execute_reply": "2022-04-25T14:00:25.626529Z",
     "shell.execute_reply.started": "2022-04-25T14:00:04.875931Z"
    }
   },
   "outputs": [],
   "source": [
    "Model_Test_Prediction = Model.predict(Test_Set)\n",
    "Model_Test_Prediction = Model_Test_Prediction.argmax(axis=-1)"
   ]
  },
  {
   "cell_type": "code",
   "execution_count": null,
   "metadata": {
    "execution": {
     "iopub.execute_input": "2022-04-25T16:02:06.819171Z",
     "iopub.status.busy": "2022-04-25T16:02:06.818662Z",
     "iopub.status.idle": "2022-04-25T16:02:10.790913Z",
     "shell.execute_reply": "2022-04-25T16:02:10.789095Z",
     "shell.execute_reply.started": "2022-04-25T16:02:06.819141Z"
    }
   },
   "outputs": [],
   "source": [
    "fig, axes = plt.subplots(nrows=10,\n",
    "                         ncols=10,\n",
    "                         figsize=(20, 20),\n",
    "                        subplot_kw={'xticks': [], 'yticks': []})\n",
    "\n",
    "for i, ax in enumerate(axes.flat):\n",
    "    ax.imshow(plt.imread(X_Test[\"JPG\"].iloc[i]))\n",
    "    ax.set_title(f\"PREDICTION:{Model_Test_Prediction[i]}\")\n",
    "    ax.set_xlabel(X_Test[\"CATEGORY\"].iloc[i])\n",
    "plt.tight_layout()\n",
    "plt.show()"
   ]
  },
  {
   "cell_type": "code",
   "execution_count": null,
   "metadata": {
    "execution": {
     "iopub.execute_input": "2022-04-25T14:14:56.255506Z",
     "iopub.status.busy": "2022-04-25T14:14:56.255137Z",
     "iopub.status.idle": "2022-04-25T14:15:33.119481Z",
     "shell.execute_reply": "2022-04-25T14:15:33.118583Z",
     "shell.execute_reply.started": "2022-04-25T14:14:56.255457Z"
    }
   },
   "outputs": [],
   "source": []
  }
 ],
 "metadata": {
  "kernelspec": {
   "display_name": "Python 3 (ipykernel)",
   "language": "python",
   "name": "python3"
  },
  "language_info": {
   "codemirror_mode": {
    "name": "ipython",
    "version": 3
   },
   "file_extension": ".py",
   "mimetype": "text/x-python",
   "name": "python",
   "nbconvert_exporter": "python",
   "pygments_lexer": "ipython3",
   "version": "3.9.5"
  }
 },
 "nbformat": 4,
 "nbformat_minor": 4
}
